{
 "cells": [
  {
   "cell_type": "markdown",
   "metadata": {},
   "source": [
    "# Customer Churn Predication Using ANN\n",
    "\n",
    "--- Binary Classifiaction Problem"
   ]
  },
  {
   "cell_type": "code",
   "execution_count": 58,
   "metadata": {},
   "outputs": [],
   "source": [
    "import pandas as pd \n",
    "import numpy as np \n",
    "import matplotlib.pyplot as plt\n",
    "from sklearn.model_selection import train_test_split\n"
   ]
  },
  {
   "cell_type": "code",
   "execution_count": 59,
   "metadata": {},
   "outputs": [],
   "source": [
    "df =pd.read_csv('Churn_Modelling.csv')"
   ]
  },
  {
   "cell_type": "code",
   "execution_count": 60,
   "metadata": {},
   "outputs": [
    {
     "data": {
      "text/html": [
       "<div>\n",
       "<style scoped>\n",
       "    .dataframe tbody tr th:only-of-type {\n",
       "        vertical-align: middle;\n",
       "    }\n",
       "\n",
       "    .dataframe tbody tr th {\n",
       "        vertical-align: top;\n",
       "    }\n",
       "\n",
       "    .dataframe thead th {\n",
       "        text-align: right;\n",
       "    }\n",
       "</style>\n",
       "<table border=\"1\" class=\"dataframe\">\n",
       "  <thead>\n",
       "    <tr style=\"text-align: right;\">\n",
       "      <th></th>\n",
       "      <th>RowNumber</th>\n",
       "      <th>CustomerId</th>\n",
       "      <th>Surname</th>\n",
       "      <th>CreditScore</th>\n",
       "      <th>Geography</th>\n",
       "      <th>Gender</th>\n",
       "      <th>Age</th>\n",
       "      <th>Tenure</th>\n",
       "      <th>Balance</th>\n",
       "      <th>NumOfProducts</th>\n",
       "      <th>HasCrCard</th>\n",
       "      <th>IsActiveMember</th>\n",
       "      <th>EstimatedSalary</th>\n",
       "      <th>Exited</th>\n",
       "    </tr>\n",
       "  </thead>\n",
       "  <tbody>\n",
       "    <tr>\n",
       "      <th>0</th>\n",
       "      <td>1</td>\n",
       "      <td>15634602</td>\n",
       "      <td>Hargrave</td>\n",
       "      <td>619</td>\n",
       "      <td>France</td>\n",
       "      <td>Female</td>\n",
       "      <td>42</td>\n",
       "      <td>2</td>\n",
       "      <td>0.00</td>\n",
       "      <td>1</td>\n",
       "      <td>1</td>\n",
       "      <td>1</td>\n",
       "      <td>101348.88</td>\n",
       "      <td>1</td>\n",
       "    </tr>\n",
       "    <tr>\n",
       "      <th>1</th>\n",
       "      <td>2</td>\n",
       "      <td>15647311</td>\n",
       "      <td>Hill</td>\n",
       "      <td>608</td>\n",
       "      <td>Spain</td>\n",
       "      <td>Female</td>\n",
       "      <td>41</td>\n",
       "      <td>1</td>\n",
       "      <td>83807.86</td>\n",
       "      <td>1</td>\n",
       "      <td>0</td>\n",
       "      <td>1</td>\n",
       "      <td>112542.58</td>\n",
       "      <td>0</td>\n",
       "    </tr>\n",
       "    <tr>\n",
       "      <th>2</th>\n",
       "      <td>3</td>\n",
       "      <td>15619304</td>\n",
       "      <td>Onio</td>\n",
       "      <td>502</td>\n",
       "      <td>France</td>\n",
       "      <td>Female</td>\n",
       "      <td>42</td>\n",
       "      <td>8</td>\n",
       "      <td>159660.80</td>\n",
       "      <td>3</td>\n",
       "      <td>1</td>\n",
       "      <td>0</td>\n",
       "      <td>113931.57</td>\n",
       "      <td>1</td>\n",
       "    </tr>\n",
       "    <tr>\n",
       "      <th>3</th>\n",
       "      <td>4</td>\n",
       "      <td>15701354</td>\n",
       "      <td>Boni</td>\n",
       "      <td>699</td>\n",
       "      <td>France</td>\n",
       "      <td>Female</td>\n",
       "      <td>39</td>\n",
       "      <td>1</td>\n",
       "      <td>0.00</td>\n",
       "      <td>2</td>\n",
       "      <td>0</td>\n",
       "      <td>0</td>\n",
       "      <td>93826.63</td>\n",
       "      <td>0</td>\n",
       "    </tr>\n",
       "    <tr>\n",
       "      <th>4</th>\n",
       "      <td>5</td>\n",
       "      <td>15737888</td>\n",
       "      <td>Mitchell</td>\n",
       "      <td>850</td>\n",
       "      <td>Spain</td>\n",
       "      <td>Female</td>\n",
       "      <td>43</td>\n",
       "      <td>2</td>\n",
       "      <td>125510.82</td>\n",
       "      <td>1</td>\n",
       "      <td>1</td>\n",
       "      <td>1</td>\n",
       "      <td>79084.10</td>\n",
       "      <td>0</td>\n",
       "    </tr>\n",
       "  </tbody>\n",
       "</table>\n",
       "</div>"
      ],
      "text/plain": [
       "   RowNumber  CustomerId   Surname  CreditScore Geography  Gender  Age  \\\n",
       "0          1    15634602  Hargrave          619    France  Female   42   \n",
       "1          2    15647311      Hill          608     Spain  Female   41   \n",
       "2          3    15619304      Onio          502    France  Female   42   \n",
       "3          4    15701354      Boni          699    France  Female   39   \n",
       "4          5    15737888  Mitchell          850     Spain  Female   43   \n",
       "\n",
       "   Tenure    Balance  NumOfProducts  HasCrCard  IsActiveMember  \\\n",
       "0       2       0.00              1          1               1   \n",
       "1       1   83807.86              1          0               1   \n",
       "2       8  159660.80              3          1               0   \n",
       "3       1       0.00              2          0               0   \n",
       "4       2  125510.82              1          1               1   \n",
       "\n",
       "   EstimatedSalary  Exited  \n",
       "0        101348.88       1  \n",
       "1        112542.58       0  \n",
       "2        113931.57       1  \n",
       "3         93826.63       0  \n",
       "4         79084.10       0  "
      ]
     },
     "execution_count": 60,
     "metadata": {},
     "output_type": "execute_result"
    }
   ],
   "source": [
    "df.head()"
   ]
  },
  {
   "cell_type": "code",
   "execution_count": 61,
   "metadata": {},
   "outputs": [
    {
     "name": "stdout",
     "output_type": "stream",
     "text": [
      "<class 'pandas.core.frame.DataFrame'>\n",
      "RangeIndex: 10000 entries, 0 to 9999\n",
      "Data columns (total 14 columns):\n",
      " #   Column           Non-Null Count  Dtype  \n",
      "---  ------           --------------  -----  \n",
      " 0   RowNumber        10000 non-null  int64  \n",
      " 1   CustomerId       10000 non-null  int64  \n",
      " 2   Surname          10000 non-null  object \n",
      " 3   CreditScore      10000 non-null  int64  \n",
      " 4   Geography        10000 non-null  object \n",
      " 5   Gender           10000 non-null  object \n",
      " 6   Age              10000 non-null  int64  \n",
      " 7   Tenure           10000 non-null  int64  \n",
      " 8   Balance          10000 non-null  float64\n",
      " 9   NumOfProducts    10000 non-null  int64  \n",
      " 10  HasCrCard        10000 non-null  int64  \n",
      " 11  IsActiveMember   10000 non-null  int64  \n",
      " 12  EstimatedSalary  10000 non-null  float64\n",
      " 13  Exited           10000 non-null  int64  \n",
      "dtypes: float64(2), int64(9), object(3)\n",
      "memory usage: 1.1+ MB\n"
     ]
    }
   ],
   "source": [
    "df.info()"
   ]
  },
  {
   "cell_type": "code",
   "execution_count": 62,
   "metadata": {},
   "outputs": [
    {
     "data": {
      "text/plain": [
       "0"
      ]
     },
     "execution_count": 62,
     "metadata": {},
     "output_type": "execute_result"
    }
   ],
   "source": [
    "df.duplicated().sum()"
   ]
  },
  {
   "cell_type": "code",
   "execution_count": 63,
   "metadata": {},
   "outputs": [
    {
     "data": {
      "text/plain": [
       "Exited\n",
       "0    7963\n",
       "1    2037\n",
       "Name: count, dtype: int64"
      ]
     },
     "execution_count": 63,
     "metadata": {},
     "output_type": "execute_result"
    }
   ],
   "source": [
    "df['Exited'].value_counts()"
   ]
  },
  {
   "cell_type": "code",
   "execution_count": 64,
   "metadata": {},
   "outputs": [
    {
     "data": {
      "text/plain": [
       "Geography\n",
       "France     5014\n",
       "Germany    2509\n",
       "Spain      2477\n",
       "Name: count, dtype: int64"
      ]
     },
     "execution_count": 64,
     "metadata": {},
     "output_type": "execute_result"
    }
   ],
   "source": [
    "df['Geography'].value_counts()"
   ]
  },
  {
   "cell_type": "code",
   "execution_count": 65,
   "metadata": {},
   "outputs": [
    {
     "data": {
      "text/plain": [
       "Gender\n",
       "Male      5457\n",
       "Female    4543\n",
       "Name: count, dtype: int64"
      ]
     },
     "execution_count": 65,
     "metadata": {},
     "output_type": "execute_result"
    }
   ],
   "source": [
    "df['Gender'].value_counts()"
   ]
  },
  {
   "cell_type": "code",
   "execution_count": 66,
   "metadata": {},
   "outputs": [],
   "source": [
    "df.drop(columns=['RowNumber','CustomerId','Surname'],inplace=True)"
   ]
  },
  {
   "cell_type": "code",
   "execution_count": 67,
   "metadata": {},
   "outputs": [],
   "source": [
    "df =pd.get_dummies(df,columns=['Geography','Gender'],drop_first=True)\n"
   ]
  },
  {
   "cell_type": "code",
   "execution_count": 68,
   "metadata": {},
   "outputs": [
    {
     "data": {
      "text/html": [
       "<div>\n",
       "<style scoped>\n",
       "    .dataframe tbody tr th:only-of-type {\n",
       "        vertical-align: middle;\n",
       "    }\n",
       "\n",
       "    .dataframe tbody tr th {\n",
       "        vertical-align: top;\n",
       "    }\n",
       "\n",
       "    .dataframe thead th {\n",
       "        text-align: right;\n",
       "    }\n",
       "</style>\n",
       "<table border=\"1\" class=\"dataframe\">\n",
       "  <thead>\n",
       "    <tr style=\"text-align: right;\">\n",
       "      <th></th>\n",
       "      <th>CreditScore</th>\n",
       "      <th>Age</th>\n",
       "      <th>Tenure</th>\n",
       "      <th>Balance</th>\n",
       "      <th>NumOfProducts</th>\n",
       "      <th>HasCrCard</th>\n",
       "      <th>IsActiveMember</th>\n",
       "      <th>EstimatedSalary</th>\n",
       "      <th>Exited</th>\n",
       "      <th>Geography_Germany</th>\n",
       "      <th>Geography_Spain</th>\n",
       "      <th>Gender_Male</th>\n",
       "    </tr>\n",
       "  </thead>\n",
       "  <tbody>\n",
       "    <tr>\n",
       "      <th>0</th>\n",
       "      <td>619</td>\n",
       "      <td>42</td>\n",
       "      <td>2</td>\n",
       "      <td>0.00</td>\n",
       "      <td>1</td>\n",
       "      <td>1</td>\n",
       "      <td>1</td>\n",
       "      <td>101348.88</td>\n",
       "      <td>1</td>\n",
       "      <td>False</td>\n",
       "      <td>False</td>\n",
       "      <td>False</td>\n",
       "    </tr>\n",
       "    <tr>\n",
       "      <th>1</th>\n",
       "      <td>608</td>\n",
       "      <td>41</td>\n",
       "      <td>1</td>\n",
       "      <td>83807.86</td>\n",
       "      <td>1</td>\n",
       "      <td>0</td>\n",
       "      <td>1</td>\n",
       "      <td>112542.58</td>\n",
       "      <td>0</td>\n",
       "      <td>False</td>\n",
       "      <td>True</td>\n",
       "      <td>False</td>\n",
       "    </tr>\n",
       "    <tr>\n",
       "      <th>2</th>\n",
       "      <td>502</td>\n",
       "      <td>42</td>\n",
       "      <td>8</td>\n",
       "      <td>159660.80</td>\n",
       "      <td>3</td>\n",
       "      <td>1</td>\n",
       "      <td>0</td>\n",
       "      <td>113931.57</td>\n",
       "      <td>1</td>\n",
       "      <td>False</td>\n",
       "      <td>False</td>\n",
       "      <td>False</td>\n",
       "    </tr>\n",
       "    <tr>\n",
       "      <th>3</th>\n",
       "      <td>699</td>\n",
       "      <td>39</td>\n",
       "      <td>1</td>\n",
       "      <td>0.00</td>\n",
       "      <td>2</td>\n",
       "      <td>0</td>\n",
       "      <td>0</td>\n",
       "      <td>93826.63</td>\n",
       "      <td>0</td>\n",
       "      <td>False</td>\n",
       "      <td>False</td>\n",
       "      <td>False</td>\n",
       "    </tr>\n",
       "    <tr>\n",
       "      <th>4</th>\n",
       "      <td>850</td>\n",
       "      <td>43</td>\n",
       "      <td>2</td>\n",
       "      <td>125510.82</td>\n",
       "      <td>1</td>\n",
       "      <td>1</td>\n",
       "      <td>1</td>\n",
       "      <td>79084.10</td>\n",
       "      <td>0</td>\n",
       "      <td>False</td>\n",
       "      <td>True</td>\n",
       "      <td>False</td>\n",
       "    </tr>\n",
       "  </tbody>\n",
       "</table>\n",
       "</div>"
      ],
      "text/plain": [
       "   CreditScore  Age  Tenure    Balance  NumOfProducts  HasCrCard  \\\n",
       "0          619   42       2       0.00              1          1   \n",
       "1          608   41       1   83807.86              1          0   \n",
       "2          502   42       8  159660.80              3          1   \n",
       "3          699   39       1       0.00              2          0   \n",
       "4          850   43       2  125510.82              1          1   \n",
       "\n",
       "   IsActiveMember  EstimatedSalary  Exited  Geography_Germany  \\\n",
       "0               1        101348.88       1              False   \n",
       "1               1        112542.58       0              False   \n",
       "2               0        113931.57       1              False   \n",
       "3               0         93826.63       0              False   \n",
       "4               1         79084.10       0              False   \n",
       "\n",
       "   Geography_Spain  Gender_Male  \n",
       "0            False        False  \n",
       "1             True        False  \n",
       "2            False        False  \n",
       "3            False        False  \n",
       "4             True        False  "
      ]
     },
     "execution_count": 68,
     "metadata": {},
     "output_type": "execute_result"
    }
   ],
   "source": [
    "df.head()"
   ]
  },
  {
   "cell_type": "code",
   "execution_count": 69,
   "metadata": {},
   "outputs": [],
   "source": [
    "X =df.drop(columns=['Exited'])\n",
    "y =df['Exited'].values\n",
    "from sklearn.model_selection import train_test_split\n",
    "X_train ,X_test,Y_train,Y_test =train_test_split(X,y,test_size=0.2,random_state=1)\n",
    "\n",
    "from sklearn.preprocessing import StandardScaler\n",
    "scale =StandardScaler()\n",
    "X_train_Scaled =scale.fit_transform(X_train)\n",
    "X_test_scaled =scale.transform(X_test)"
   ]
  },
  {
   "cell_type": "code",
   "execution_count": 70,
   "metadata": {},
   "outputs": [],
   "source": [
    "from tensorflow import keras\n",
    "\n",
    "from tensorflow.keras import Sequential\n",
    "from tensorflow.keras.layers import Dense"
   ]
  },
  {
   "cell_type": "code",
   "execution_count": 71,
   "metadata": {},
   "outputs": [],
   "source": [
    "model =Sequential()\n",
    "model.add(Dense(3,activation ='sigmoid',input_dim =11))\n",
    "model.add(Dense(1,activation ='sigmoid'))"
   ]
  },
  {
   "cell_type": "code",
   "execution_count": 72,
   "metadata": {},
   "outputs": [
    {
     "name": "stdout",
     "output_type": "stream",
     "text": [
      "Model: \"sequential_3\"\n",
      "_________________________________________________________________\n",
      " Layer (type)                Output Shape              Param #   \n",
      "=================================================================\n",
      " dense_2 (Dense)             (None, 3)                 36        \n",
      "                                                                 \n",
      " dense_3 (Dense)             (None, 1)                 4         \n",
      "                                                                 \n",
      "=================================================================\n",
      "Total params: 40 (160.00 Byte)\n",
      "Trainable params: 40 (160.00 Byte)\n",
      "Non-trainable params: 0 (0.00 Byte)\n",
      "_________________________________________________________________\n"
     ]
    }
   ],
   "source": [
    "model.summary()"
   ]
  },
  {
   "cell_type": "code",
   "execution_count": 73,
   "metadata": {},
   "outputs": [],
   "source": [
    "model.compile(loss='binary_crossentropy',optimizer='Adam')"
   ]
  },
  {
   "cell_type": "code",
   "execution_count": 74,
   "metadata": {},
   "outputs": [
    {
     "name": "stdout",
     "output_type": "stream",
     "text": [
      "Epoch 1/10\n",
      "WARNING:tensorflow:From C:\\Users\\dell\\AppData\\Roaming\\Python\\Python311\\site-packages\\keras\\src\\utils\\tf_utils.py:492: The name tf.ragged.RaggedTensorValue is deprecated. Please use tf.compat.v1.ragged.RaggedTensorValue instead.\n",
      "\n",
      "250/250 [==============================] - 2s 2ms/step - loss: 0.4960\n",
      "Epoch 2/10\n",
      "250/250 [==============================] - 0s 2ms/step - loss: 0.4617\n",
      "Epoch 3/10\n",
      "250/250 [==============================] - 0s 2ms/step - loss: 0.4493\n",
      "Epoch 4/10\n",
      "250/250 [==============================] - 0s 2ms/step - loss: 0.4424\n",
      "Epoch 5/10\n",
      "250/250 [==============================] - 1s 2ms/step - loss: 0.4376\n",
      "Epoch 6/10\n",
      "250/250 [==============================] - 0s 2ms/step - loss: 0.4341\n",
      "Epoch 7/10\n",
      "250/250 [==============================] - 0s 2ms/step - loss: 0.4315\n",
      "Epoch 8/10\n",
      "250/250 [==============================] - 0s 2ms/step - loss: 0.4296\n",
      "Epoch 9/10\n",
      "250/250 [==============================] - 0s 2ms/step - loss: 0.4280\n",
      "Epoch 10/10\n",
      "250/250 [==============================] - 0s 2ms/step - loss: 0.4267\n"
     ]
    },
    {
     "data": {
      "text/plain": [
       "<keras.src.callbacks.History at 0x219e7de4210>"
      ]
     },
     "execution_count": 74,
     "metadata": {},
     "output_type": "execute_result"
    }
   ],
   "source": [
    "model.fit(X_train_Scaled,Y_train,epochs=10)"
   ]
  },
  {
   "cell_type": "code",
   "execution_count": 75,
   "metadata": {},
   "outputs": [
    {
     "data": {
      "text/plain": [
       "[array([[-1.0127587 ],\n",
       "        [-1.6702158 ],\n",
       "        [-0.49340042]], dtype=float32),\n",
       " array([0.06837142], dtype=float32)]"
      ]
     },
     "execution_count": 75,
     "metadata": {},
     "output_type": "execute_result"
    }
   ],
   "source": [
    "model.layers[1].get_weights()"
   ]
  },
  {
   "cell_type": "code",
   "execution_count": 77,
   "metadata": {},
   "outputs": [
    {
     "name": "stdout",
     "output_type": "stream",
     "text": [
      "63/63 [==============================] - 0s 2ms/step\n"
     ]
    }
   ],
   "source": [
    "y_log =model.predict(X_test_scaled) # converting the probalbality output to binary"
   ]
  },
  {
   "cell_type": "code",
   "execution_count": 79,
   "metadata": {},
   "outputs": [],
   "source": [
    "y_pred = np.where(y_log >= 0.5 ,1,0)"
   ]
  },
  {
   "cell_type": "code",
   "execution_count": 80,
   "metadata": {},
   "outputs": [
    {
     "data": {
      "text/plain": [
       "0.8005"
      ]
     },
     "execution_count": 80,
     "metadata": {},
     "output_type": "execute_result"
    }
   ],
   "source": [
    "from sklearn.metrics import accuracy_score\n",
    "accuracy_score(Y_test,y_pred)"
   ]
  },
  {
   "cell_type": "code",
   "execution_count": 81,
   "metadata": {},
   "outputs": [],
   "source": [
    " # model 2\n",
    "model =Sequential()\n",
    "model.add(Dense(11,activation ='sigmoid',input_dim =11))\n",
    "model.add(Dense(11,activation ='sigmoid'))\n",
    "model.add(Dense(1,activation ='sigmoid'))"
   ]
  },
  {
   "cell_type": "code",
   "execution_count": 90,
   "metadata": {},
   "outputs": [],
   "source": [
    "model.compile(loss='binary_crossentropy',optimizer='Adam',metrics=['accuracy']) \n",
    "# now the model also provide accuracy with loss after every epouchs\n",
    "\n"
   ]
  },
  {
   "cell_type": "code",
   "execution_count": 91,
   "metadata": {},
   "outputs": [
    {
     "name": "stdout",
     "output_type": "stream",
     "text": [
      "Epoch 1/100\n",
      "WARNING:tensorflow:From C:\\Users\\dell\\AppData\\Roaming\\Python\\Python311\\site-packages\\keras\\src\\engine\\base_layer_utils.py:384: The name tf.executing_eagerly_outside_functions is deprecated. Please use tf.compat.v1.executing_eagerly_outside_functions instead.\n",
      "\n",
      "200/200 [==============================] - 2s 4ms/step - loss: 0.3225 - accuracy: 0.8656 - val_loss: 0.3426 - val_accuracy: 0.8556\n",
      "Epoch 2/100\n",
      "200/200 [==============================] - 1s 3ms/step - loss: 0.3221 - accuracy: 0.8672 - val_loss: 0.3433 - val_accuracy: 0.8556\n",
      "Epoch 3/100\n",
      "200/200 [==============================] - 1s 3ms/step - loss: 0.3225 - accuracy: 0.8666 - val_loss: 0.3436 - val_accuracy: 0.8550\n",
      "Epoch 4/100\n",
      "200/200 [==============================] - 1s 3ms/step - loss: 0.3222 - accuracy: 0.8664 - val_loss: 0.3433 - val_accuracy: 0.8569\n",
      "Epoch 5/100\n",
      "200/200 [==============================] - 1s 3ms/step - loss: 0.3221 - accuracy: 0.8655 - val_loss: 0.3445 - val_accuracy: 0.8581\n",
      "Epoch 6/100\n",
      "200/200 [==============================] - 1s 3ms/step - loss: 0.3220 - accuracy: 0.8670 - val_loss: 0.3454 - val_accuracy: 0.8537\n",
      "Epoch 7/100\n",
      "200/200 [==============================] - 1s 3ms/step - loss: 0.3220 - accuracy: 0.8675 - val_loss: 0.3433 - val_accuracy: 0.8562\n",
      "Epoch 8/100\n",
      "200/200 [==============================] - 1s 3ms/step - loss: 0.3222 - accuracy: 0.8662 - val_loss: 0.3436 - val_accuracy: 0.8569\n",
      "Epoch 9/100\n",
      "200/200 [==============================] - 1s 3ms/step - loss: 0.3220 - accuracy: 0.8666 - val_loss: 0.3430 - val_accuracy: 0.8562\n",
      "Epoch 10/100\n",
      "200/200 [==============================] - 1s 3ms/step - loss: 0.3222 - accuracy: 0.8655 - val_loss: 0.3436 - val_accuracy: 0.8556\n",
      "Epoch 11/100\n",
      "200/200 [==============================] - 1s 4ms/step - loss: 0.3216 - accuracy: 0.8662 - val_loss: 0.3446 - val_accuracy: 0.8537\n",
      "Epoch 12/100\n",
      "200/200 [==============================] - 1s 3ms/step - loss: 0.3220 - accuracy: 0.8655 - val_loss: 0.3459 - val_accuracy: 0.8537\n",
      "Epoch 13/100\n",
      "200/200 [==============================] - 1s 4ms/step - loss: 0.3220 - accuracy: 0.8666 - val_loss: 0.3440 - val_accuracy: 0.8569\n",
      "Epoch 14/100\n",
      "200/200 [==============================] - 1s 3ms/step - loss: 0.3220 - accuracy: 0.8661 - val_loss: 0.3436 - val_accuracy: 0.8544\n",
      "Epoch 15/100\n",
      "200/200 [==============================] - 1s 3ms/step - loss: 0.3219 - accuracy: 0.8653 - val_loss: 0.3456 - val_accuracy: 0.8550\n",
      "Epoch 16/100\n",
      "200/200 [==============================] - 1s 4ms/step - loss: 0.3222 - accuracy: 0.8677 - val_loss: 0.3439 - val_accuracy: 0.8537\n",
      "Epoch 17/100\n",
      "200/200 [==============================] - 1s 3ms/step - loss: 0.3218 - accuracy: 0.8666 - val_loss: 0.3440 - val_accuracy: 0.8550\n",
      "Epoch 18/100\n",
      "200/200 [==============================] - 1s 4ms/step - loss: 0.3216 - accuracy: 0.8659 - val_loss: 0.3451 - val_accuracy: 0.8550\n",
      "Epoch 19/100\n",
      "200/200 [==============================] - 1s 3ms/step - loss: 0.3219 - accuracy: 0.8672 - val_loss: 0.3436 - val_accuracy: 0.8544\n",
      "Epoch 20/100\n",
      "200/200 [==============================] - 1s 3ms/step - loss: 0.3217 - accuracy: 0.8636 - val_loss: 0.3432 - val_accuracy: 0.8556\n",
      "Epoch 21/100\n",
      "200/200 [==============================] - 1s 3ms/step - loss: 0.3215 - accuracy: 0.8666 - val_loss: 0.3458 - val_accuracy: 0.8537\n",
      "Epoch 22/100\n",
      "200/200 [==============================] - 1s 3ms/step - loss: 0.3219 - accuracy: 0.8658 - val_loss: 0.3437 - val_accuracy: 0.8537\n",
      "Epoch 23/100\n",
      "200/200 [==============================] - 1s 3ms/step - loss: 0.3218 - accuracy: 0.8672 - val_loss: 0.3441 - val_accuracy: 0.8544\n",
      "Epoch 24/100\n",
      "200/200 [==============================] - 1s 3ms/step - loss: 0.3215 - accuracy: 0.8672 - val_loss: 0.3450 - val_accuracy: 0.8525\n",
      "Epoch 25/100\n",
      "200/200 [==============================] - 1s 3ms/step - loss: 0.3216 - accuracy: 0.8658 - val_loss: 0.3445 - val_accuracy: 0.8519\n",
      "Epoch 26/100\n",
      "200/200 [==============================] - 1s 3ms/step - loss: 0.3214 - accuracy: 0.8666 - val_loss: 0.3463 - val_accuracy: 0.8537\n",
      "Epoch 27/100\n",
      "200/200 [==============================] - 1s 3ms/step - loss: 0.3216 - accuracy: 0.8666 - val_loss: 0.3460 - val_accuracy: 0.8550\n",
      "Epoch 28/100\n",
      "200/200 [==============================] - 1s 4ms/step - loss: 0.3213 - accuracy: 0.8666 - val_loss: 0.3449 - val_accuracy: 0.8556\n",
      "Epoch 29/100\n",
      "200/200 [==============================] - 1s 3ms/step - loss: 0.3218 - accuracy: 0.8661 - val_loss: 0.3441 - val_accuracy: 0.8537\n",
      "Epoch 30/100\n",
      "200/200 [==============================] - 1s 3ms/step - loss: 0.3217 - accuracy: 0.8658 - val_loss: 0.3449 - val_accuracy: 0.8531\n",
      "Epoch 31/100\n",
      "200/200 [==============================] - 1s 3ms/step - loss: 0.3213 - accuracy: 0.8673 - val_loss: 0.3455 - val_accuracy: 0.8525\n",
      "Epoch 32/100\n",
      "200/200 [==============================] - 1s 3ms/step - loss: 0.3210 - accuracy: 0.8666 - val_loss: 0.3442 - val_accuracy: 0.8556\n",
      "Epoch 33/100\n",
      "200/200 [==============================] - 1s 3ms/step - loss: 0.3214 - accuracy: 0.8675 - val_loss: 0.3455 - val_accuracy: 0.8525\n",
      "Epoch 34/100\n",
      "200/200 [==============================] - 1s 3ms/step - loss: 0.3209 - accuracy: 0.8666 - val_loss: 0.3446 - val_accuracy: 0.8562\n",
      "Epoch 35/100\n",
      "200/200 [==============================] - 1s 3ms/step - loss: 0.3214 - accuracy: 0.8666 - val_loss: 0.3459 - val_accuracy: 0.8544\n",
      "Epoch 36/100\n",
      "200/200 [==============================] - 1s 3ms/step - loss: 0.3213 - accuracy: 0.8662 - val_loss: 0.3455 - val_accuracy: 0.8525\n",
      "Epoch 37/100\n",
      "200/200 [==============================] - 1s 3ms/step - loss: 0.3212 - accuracy: 0.8648 - val_loss: 0.3442 - val_accuracy: 0.8544\n",
      "Epoch 38/100\n",
      "200/200 [==============================] - 1s 3ms/step - loss: 0.3211 - accuracy: 0.8659 - val_loss: 0.3444 - val_accuracy: 0.8562\n",
      "Epoch 39/100\n",
      "200/200 [==============================] - 1s 3ms/step - loss: 0.3213 - accuracy: 0.8655 - val_loss: 0.3449 - val_accuracy: 0.8525\n",
      "Epoch 40/100\n",
      "200/200 [==============================] - 1s 3ms/step - loss: 0.3211 - accuracy: 0.8666 - val_loss: 0.3447 - val_accuracy: 0.8537\n",
      "Epoch 41/100\n",
      "200/200 [==============================] - 1s 3ms/step - loss: 0.3212 - accuracy: 0.8659 - val_loss: 0.3472 - val_accuracy: 0.8544\n",
      "Epoch 42/100\n",
      "200/200 [==============================] - 0s 2ms/step - loss: 0.3212 - accuracy: 0.8659 - val_loss: 0.3452 - val_accuracy: 0.8544\n",
      "Epoch 43/100\n",
      "200/200 [==============================] - 1s 3ms/step - loss: 0.3210 - accuracy: 0.8666 - val_loss: 0.3446 - val_accuracy: 0.8550\n",
      "Epoch 44/100\n",
      "200/200 [==============================] - 1s 3ms/step - loss: 0.3212 - accuracy: 0.8662 - val_loss: 0.3449 - val_accuracy: 0.8537\n",
      "Epoch 45/100\n",
      "200/200 [==============================] - 1s 3ms/step - loss: 0.3214 - accuracy: 0.8662 - val_loss: 0.3458 - val_accuracy: 0.8531\n",
      "Epoch 46/100\n",
      "200/200 [==============================] - 1s 3ms/step - loss: 0.3210 - accuracy: 0.8670 - val_loss: 0.3462 - val_accuracy: 0.8537\n",
      "Epoch 47/100\n",
      "200/200 [==============================] - 1s 3ms/step - loss: 0.3206 - accuracy: 0.8667 - val_loss: 0.3462 - val_accuracy: 0.8519\n",
      "Epoch 48/100\n",
      "200/200 [==============================] - 1s 3ms/step - loss: 0.3211 - accuracy: 0.8662 - val_loss: 0.3456 - val_accuracy: 0.8531\n",
      "Epoch 49/100\n",
      "200/200 [==============================] - 1s 3ms/step - loss: 0.3208 - accuracy: 0.8670 - val_loss: 0.3448 - val_accuracy: 0.8550\n",
      "Epoch 50/100\n",
      "200/200 [==============================] - 1s 3ms/step - loss: 0.3212 - accuracy: 0.8673 - val_loss: 0.3447 - val_accuracy: 0.8556\n",
      "Epoch 51/100\n",
      "200/200 [==============================] - 0s 2ms/step - loss: 0.3207 - accuracy: 0.8667 - val_loss: 0.3449 - val_accuracy: 0.8544\n",
      "Epoch 52/100\n",
      "200/200 [==============================] - 0s 2ms/step - loss: 0.3208 - accuracy: 0.8655 - val_loss: 0.3452 - val_accuracy: 0.8544\n",
      "Epoch 53/100\n",
      "200/200 [==============================] - 0s 3ms/step - loss: 0.3211 - accuracy: 0.8667 - val_loss: 0.3449 - val_accuracy: 0.8519\n",
      "Epoch 54/100\n",
      "200/200 [==============================] - 1s 3ms/step - loss: 0.3212 - accuracy: 0.8658 - val_loss: 0.3463 - val_accuracy: 0.8506\n",
      "Epoch 55/100\n",
      "200/200 [==============================] - 0s 3ms/step - loss: 0.3207 - accuracy: 0.8667 - val_loss: 0.3448 - val_accuracy: 0.8531\n",
      "Epoch 56/100\n",
      "200/200 [==============================] - 1s 3ms/step - loss: 0.3212 - accuracy: 0.8669 - val_loss: 0.3451 - val_accuracy: 0.8512\n",
      "Epoch 57/100\n",
      "200/200 [==============================] - 1s 3ms/step - loss: 0.3207 - accuracy: 0.8655 - val_loss: 0.3456 - val_accuracy: 0.8569\n",
      "Epoch 58/100\n",
      "200/200 [==============================] - 1s 3ms/step - loss: 0.3207 - accuracy: 0.8664 - val_loss: 0.3458 - val_accuracy: 0.8525\n",
      "Epoch 59/100\n",
      "200/200 [==============================] - 1s 3ms/step - loss: 0.3207 - accuracy: 0.8658 - val_loss: 0.3457 - val_accuracy: 0.8556\n",
      "Epoch 60/100\n",
      "200/200 [==============================] - 1s 3ms/step - loss: 0.3207 - accuracy: 0.8662 - val_loss: 0.3469 - val_accuracy: 0.8519\n",
      "Epoch 61/100\n",
      "200/200 [==============================] - 1s 3ms/step - loss: 0.3207 - accuracy: 0.8658 - val_loss: 0.3463 - val_accuracy: 0.8550\n",
      "Epoch 62/100\n",
      "200/200 [==============================] - 1s 3ms/step - loss: 0.3210 - accuracy: 0.8664 - val_loss: 0.3458 - val_accuracy: 0.8544\n",
      "Epoch 63/100\n",
      "200/200 [==============================] - 1s 3ms/step - loss: 0.3208 - accuracy: 0.8670 - val_loss: 0.3458 - val_accuracy: 0.8525\n",
      "Epoch 64/100\n",
      "200/200 [==============================] - 1s 3ms/step - loss: 0.3204 - accuracy: 0.8661 - val_loss: 0.3463 - val_accuracy: 0.8537\n",
      "Epoch 65/100\n",
      "200/200 [==============================] - 1s 3ms/step - loss: 0.3206 - accuracy: 0.8661 - val_loss: 0.3455 - val_accuracy: 0.8525\n",
      "Epoch 66/100\n",
      "200/200 [==============================] - 1s 3ms/step - loss: 0.3204 - accuracy: 0.8672 - val_loss: 0.3451 - val_accuracy: 0.8550\n",
      "Epoch 67/100\n",
      "200/200 [==============================] - 1s 3ms/step - loss: 0.3204 - accuracy: 0.8655 - val_loss: 0.3452 - val_accuracy: 0.8537\n",
      "Epoch 68/100\n",
      "200/200 [==============================] - 1s 3ms/step - loss: 0.3208 - accuracy: 0.8666 - val_loss: 0.3456 - val_accuracy: 0.8562\n",
      "Epoch 69/100\n",
      "200/200 [==============================] - 1s 3ms/step - loss: 0.3205 - accuracy: 0.8659 - val_loss: 0.3454 - val_accuracy: 0.8537\n",
      "Epoch 70/100\n",
      "200/200 [==============================] - 1s 3ms/step - loss: 0.3212 - accuracy: 0.8645 - val_loss: 0.3452 - val_accuracy: 0.8550\n",
      "Epoch 71/100\n",
      "200/200 [==============================] - 1s 3ms/step - loss: 0.3206 - accuracy: 0.8650 - val_loss: 0.3469 - val_accuracy: 0.8531\n",
      "Epoch 72/100\n",
      "200/200 [==============================] - 1s 3ms/step - loss: 0.3206 - accuracy: 0.8666 - val_loss: 0.3465 - val_accuracy: 0.8544\n",
      "Epoch 73/100\n",
      "200/200 [==============================] - 1s 3ms/step - loss: 0.3197 - accuracy: 0.8684 - val_loss: 0.3469 - val_accuracy: 0.8519\n",
      "Epoch 74/100\n",
      "200/200 [==============================] - 1s 3ms/step - loss: 0.3206 - accuracy: 0.8662 - val_loss: 0.3474 - val_accuracy: 0.8519\n",
      "Epoch 75/100\n",
      "200/200 [==============================] - 0s 2ms/step - loss: 0.3203 - accuracy: 0.8662 - val_loss: 0.3461 - val_accuracy: 0.8531\n",
      "Epoch 76/100\n",
      "200/200 [==============================] - 1s 3ms/step - loss: 0.3204 - accuracy: 0.8652 - val_loss: 0.3455 - val_accuracy: 0.8537\n",
      "Epoch 77/100\n",
      "200/200 [==============================] - 1s 3ms/step - loss: 0.3203 - accuracy: 0.8673 - val_loss: 0.3458 - val_accuracy: 0.8537\n",
      "Epoch 78/100\n",
      "200/200 [==============================] - 1s 3ms/step - loss: 0.3201 - accuracy: 0.8672 - val_loss: 0.3471 - val_accuracy: 0.8525\n",
      "Epoch 79/100\n",
      "200/200 [==============================] - 1s 3ms/step - loss: 0.3204 - accuracy: 0.8661 - val_loss: 0.3455 - val_accuracy: 0.8550\n",
      "Epoch 80/100\n",
      "200/200 [==============================] - 1s 3ms/step - loss: 0.3211 - accuracy: 0.8670 - val_loss: 0.3459 - val_accuracy: 0.8531\n",
      "Epoch 81/100\n",
      "200/200 [==============================] - 1s 3ms/step - loss: 0.3199 - accuracy: 0.8659 - val_loss: 0.3470 - val_accuracy: 0.8525\n",
      "Epoch 82/100\n",
      "200/200 [==============================] - 1s 3ms/step - loss: 0.3202 - accuracy: 0.8669 - val_loss: 0.3452 - val_accuracy: 0.8537\n",
      "Epoch 83/100\n",
      "200/200 [==============================] - 1s 3ms/step - loss: 0.3202 - accuracy: 0.8664 - val_loss: 0.3461 - val_accuracy: 0.8537\n",
      "Epoch 84/100\n",
      "200/200 [==============================] - 1s 3ms/step - loss: 0.3200 - accuracy: 0.8658 - val_loss: 0.3449 - val_accuracy: 0.8512\n",
      "Epoch 85/100\n",
      "200/200 [==============================] - 1s 3ms/step - loss: 0.3207 - accuracy: 0.8664 - val_loss: 0.3457 - val_accuracy: 0.8544\n",
      "Epoch 86/100\n",
      "200/200 [==============================] - 1s 3ms/step - loss: 0.3205 - accuracy: 0.8664 - val_loss: 0.3464 - val_accuracy: 0.8544\n",
      "Epoch 87/100\n",
      "200/200 [==============================] - 1s 3ms/step - loss: 0.3201 - accuracy: 0.8653 - val_loss: 0.3474 - val_accuracy: 0.8531\n",
      "Epoch 88/100\n",
      "200/200 [==============================] - 1s 3ms/step - loss: 0.3204 - accuracy: 0.8670 - val_loss: 0.3454 - val_accuracy: 0.8531\n",
      "Epoch 89/100\n",
      "200/200 [==============================] - 1s 3ms/step - loss: 0.3198 - accuracy: 0.8661 - val_loss: 0.3483 - val_accuracy: 0.8525\n",
      "Epoch 90/100\n",
      "200/200 [==============================] - 1s 3ms/step - loss: 0.3201 - accuracy: 0.8655 - val_loss: 0.3467 - val_accuracy: 0.8525\n",
      "Epoch 91/100\n",
      "200/200 [==============================] - 1s 3ms/step - loss: 0.3198 - accuracy: 0.8662 - val_loss: 0.3461 - val_accuracy: 0.8519\n",
      "Epoch 92/100\n",
      "200/200 [==============================] - 1s 3ms/step - loss: 0.3205 - accuracy: 0.8683 - val_loss: 0.3468 - val_accuracy: 0.8512\n",
      "Epoch 93/100\n",
      "200/200 [==============================] - 1s 3ms/step - loss: 0.3199 - accuracy: 0.8650 - val_loss: 0.3475 - val_accuracy: 0.8525\n",
      "Epoch 94/100\n",
      "200/200 [==============================] - 1s 3ms/step - loss: 0.3204 - accuracy: 0.8656 - val_loss: 0.3465 - val_accuracy: 0.8537\n",
      "Epoch 95/100\n",
      "200/200 [==============================] - 1s 3ms/step - loss: 0.3200 - accuracy: 0.8666 - val_loss: 0.3460 - val_accuracy: 0.8544\n",
      "Epoch 96/100\n",
      "200/200 [==============================] - 1s 3ms/step - loss: 0.3201 - accuracy: 0.8661 - val_loss: 0.3460 - val_accuracy: 0.8537\n",
      "Epoch 97/100\n",
      "200/200 [==============================] - 0s 2ms/step - loss: 0.3199 - accuracy: 0.8680 - val_loss: 0.3460 - val_accuracy: 0.8537\n",
      "Epoch 98/100\n",
      "200/200 [==============================] - 1s 3ms/step - loss: 0.3206 - accuracy: 0.8653 - val_loss: 0.3460 - val_accuracy: 0.8525\n",
      "Epoch 99/100\n",
      "200/200 [==============================] - 1s 3ms/step - loss: 0.3197 - accuracy: 0.8664 - val_loss: 0.3468 - val_accuracy: 0.8525\n",
      "Epoch 100/100\n",
      "200/200 [==============================] - 1s 3ms/step - loss: 0.3201 - accuracy: 0.8661 - val_loss: 0.3472 - val_accuracy: 0.8550\n"
     ]
    }
   ],
   "source": [
    "history_of_mode =model.fit(X_train_Scaled,Y_train,epochs=100,validation_split=0.2)\n",
    "# the validation split take  60 percent data  and perform testing also on it to sjow accuracy "
   ]
  },
  {
   "cell_type": "markdown",
   "metadata": {},
   "source": [
    "acuuracy of both validation_loss and validation accuracy should increase if does not that result in overfitting"
   ]
  },
  {
   "cell_type": "code",
   "execution_count": 87,
   "metadata": {},
   "outputs": [
    {
     "name": "stdout",
     "output_type": "stream",
     "text": [
      "63/63 [==============================] - 0s 2ms/step\n"
     ]
    },
    {
     "data": {
      "text/plain": [
       "0.8625"
      ]
     },
     "execution_count": 87,
     "metadata": {},
     "output_type": "execute_result"
    }
   ],
   "source": [
    "y_log =model.predict(X_test_scaled)\n",
    "y_pred = np.where(y_log >= 0.5 ,1,0)\n",
    "from sklearn.metrics import accuracy_score\n",
    "accuracy_score(Y_test,y_pred)"
   ]
  },
  {
   "cell_type": "code",
   "execution_count": 88,
   "metadata": {},
   "outputs": [
    {
     "data": {
      "text/plain": [
       "{'loss': [0.3325245678424835,\n",
       "  0.33222371339797974,\n",
       "  0.3319191634654999,\n",
       "  0.3323024809360504,\n",
       "  0.3313601315021515,\n",
       "  0.33148154616355896,\n",
       "  0.3308735191822052,\n",
       "  0.3307039737701416,\n",
       "  0.3307451903820038,\n",
       "  0.33035561442375183,\n",
       "  0.3303510248661041,\n",
       "  0.3301432132720947,\n",
       "  0.32971861958503723,\n",
       "  0.3297875225543976,\n",
       "  0.3294893503189087,\n",
       "  0.32932353019714355,\n",
       "  0.32903361320495605,\n",
       "  0.3285026252269745,\n",
       "  0.3290828764438629,\n",
       "  0.3286537230014801,\n",
       "  0.32856667041778564,\n",
       "  0.3286137282848358,\n",
       "  0.3280760645866394,\n",
       "  0.3278445899486542,\n",
       "  0.32810986042022705,\n",
       "  0.3281569182872772,\n",
       "  0.3273838460445404,\n",
       "  0.3276657164096832,\n",
       "  0.3274369537830353,\n",
       "  0.3274990916252136,\n",
       "  0.32715335488319397,\n",
       "  0.32728397846221924,\n",
       "  0.32678088545799255,\n",
       "  0.32688388228416443,\n",
       "  0.32652613520622253,\n",
       "  0.3268858790397644,\n",
       "  0.32679179310798645,\n",
       "  0.3262706696987152,\n",
       "  0.32654473185539246,\n",
       "  0.3261267840862274,\n",
       "  0.3258073925971985,\n",
       "  0.3258531093597412,\n",
       "  0.325693815946579,\n",
       "  0.32562533020973206,\n",
       "  0.3258439004421234,\n",
       "  0.32586947083473206,\n",
       "  0.32547852396965027,\n",
       "  0.3254389464855194,\n",
       "  0.32527121901512146,\n",
       "  0.32528626918792725,\n",
       "  0.3253416419029236,\n",
       "  0.3252570629119873,\n",
       "  0.3249638080596924,\n",
       "  0.3249407112598419,\n",
       "  0.3247072994709015,\n",
       "  0.324827641248703,\n",
       "  0.3247566521167755,\n",
       "  0.32430556416511536,\n",
       "  0.3240695893764496,\n",
       "  0.3244629204273224,\n",
       "  0.3243643045425415,\n",
       "  0.3244919180870056,\n",
       "  0.32406115531921387,\n",
       "  0.32435745000839233,\n",
       "  0.32343757152557373,\n",
       "  0.32395026087760925,\n",
       "  0.3239698112010956,\n",
       "  0.323893666267395,\n",
       "  0.32378846406936646,\n",
       "  0.3236267566680908,\n",
       "  0.32371455430984497,\n",
       "  0.323693186044693,\n",
       "  0.3236982226371765,\n",
       "  0.32347217202186584,\n",
       "  0.3233093321323395,\n",
       "  0.32327133417129517,\n",
       "  0.3235093057155609,\n",
       "  0.3237210214138031,\n",
       "  0.32340171933174133,\n",
       "  0.32304465770721436,\n",
       "  0.32298552989959717,\n",
       "  0.32283809781074524,\n",
       "  0.3228415250778198,\n",
       "  0.32240360975265503,\n",
       "  0.3228074312210083,\n",
       "  0.3226505517959595,\n",
       "  0.3227706849575043,\n",
       "  0.32272204756736755,\n",
       "  0.3224288523197174,\n",
       "  0.3231160640716553,\n",
       "  0.32266414165496826,\n",
       "  0.32283973693847656,\n",
       "  0.3227403163909912,\n",
       "  0.32264623045921326,\n",
       "  0.32270386815071106,\n",
       "  0.3222050070762634,\n",
       "  0.32259246706962585,\n",
       "  0.3223210573196411,\n",
       "  0.3222973346710205,\n",
       "  0.3220272958278656],\n",
       " 'val_loss': [0.34369587898254395,\n",
       "  0.34466812014579773,\n",
       "  0.34375330805778503,\n",
       "  0.3442547619342804,\n",
       "  0.3428288698196411,\n",
       "  0.342909038066864,\n",
       "  0.34307926893234253,\n",
       "  0.3428201675415039,\n",
       "  0.3438405990600586,\n",
       "  0.34418147802352905,\n",
       "  0.3433670699596405,\n",
       "  0.34461739659309387,\n",
       "  0.3445972204208374,\n",
       "  0.34221962094306946,\n",
       "  0.34265831112861633,\n",
       "  0.34327900409698486,\n",
       "  0.34294453263282776,\n",
       "  0.3460747003555298,\n",
       "  0.34154370427131653,\n",
       "  0.3432605266571045,\n",
       "  0.34247857332229614,\n",
       "  0.3421355187892914,\n",
       "  0.3440394103527069,\n",
       "  0.34414345026016235,\n",
       "  0.3419020175933838,\n",
       "  0.34400269389152527,\n",
       "  0.343006432056427,\n",
       "  0.34190815687179565,\n",
       "  0.3429163992404938,\n",
       "  0.3417992889881134,\n",
       "  0.3417026102542877,\n",
       "  0.3442734181880951,\n",
       "  0.343796968460083,\n",
       "  0.3420182168483734,\n",
       "  0.3421266973018646,\n",
       "  0.34338948130607605,\n",
       "  0.3426853120326996,\n",
       "  0.34183648228645325,\n",
       "  0.34546780586242676,\n",
       "  0.34124526381492615,\n",
       "  0.34163349866867065,\n",
       "  0.3425551950931549,\n",
       "  0.34405452013015747,\n",
       "  0.34310901165008545,\n",
       "  0.3423888683319092,\n",
       "  0.3419519066810608,\n",
       "  0.341920405626297,\n",
       "  0.3415141701698303,\n",
       "  0.3422330915927887,\n",
       "  0.342279851436615,\n",
       "  0.3421178460121155,\n",
       "  0.3421473205089569,\n",
       "  0.34272661805152893,\n",
       "  0.34282124042510986,\n",
       "  0.3416575491428375,\n",
       "  0.34294405579566956,\n",
       "  0.34197598695755005,\n",
       "  0.343761682510376,\n",
       "  0.34363800287246704,\n",
       "  0.34276726841926575,\n",
       "  0.3416696786880493,\n",
       "  0.3418656289577484,\n",
       "  0.3431425988674164,\n",
       "  0.3436086177825928,\n",
       "  0.34360963106155396,\n",
       "  0.3431166112422943,\n",
       "  0.3426741659641266,\n",
       "  0.34291911125183105,\n",
       "  0.3425130844116211,\n",
       "  0.3441496789455414,\n",
       "  0.3430844843387604,\n",
       "  0.34327414631843567,\n",
       "  0.3430898189544678,\n",
       "  0.3418576121330261,\n",
       "  0.34232375025749207,\n",
       "  0.34384655952453613,\n",
       "  0.34350380301475525,\n",
       "  0.3422127664089203,\n",
       "  0.34312301874160767,\n",
       "  0.34438854455947876,\n",
       "  0.34238362312316895,\n",
       "  0.342733234167099,\n",
       "  0.34348586201667786,\n",
       "  0.34338611364364624,\n",
       "  0.3442346453666687,\n",
       "  0.34380027651786804,\n",
       "  0.3419858515262604,\n",
       "  0.34535953402519226,\n",
       "  0.3428742289543152,\n",
       "  0.34271252155303955,\n",
       "  0.34488680958747864,\n",
       "  0.3445066213607788,\n",
       "  0.34413301944732666,\n",
       "  0.34484508633613586,\n",
       "  0.3435434401035309,\n",
       "  0.3446443974971771,\n",
       "  0.34405750036239624,\n",
       "  0.3432404696941376,\n",
       "  0.34373828768730164,\n",
       "  0.34474948048591614]}"
      ]
     },
     "execution_count": 88,
     "metadata": {},
     "output_type": "execute_result"
    }
   ],
   "source": [
    "history_of_mode.history"
   ]
  },
  {
   "cell_type": "code",
   "execution_count": 92,
   "metadata": {},
   "outputs": [
    {
     "data": {
      "text/plain": [
       "[<matplotlib.lines.Line2D at 0x219e8a45d50>]"
      ]
     },
     "execution_count": 92,
     "metadata": {},
     "output_type": "execute_result"
    },
    {
     "data": {
      "image/png": "[encoded data removed]",
      "text/plain": [
       "<Figure size 640x480 with 1 Axes>"
      ]
     },
     "metadata": {},
     "output_type": "display_data"
    }
   ],
   "source": [
    "plt.plot(history_of_mode.history['loss'])\n",
    "plt.plot(history_of_mode.history['val_loss'])\n",
    "plt.plot(history_of_mode.history['val_accuracy'])\n"
   ]
  },
  {
   "cell_type": "markdown",
   "metadata": {},
   "source": [
    "# MNSIT dataset A multiclass problem"
   ]
  },
  {
   "cell_type": "code",
   "execution_count": 93,
   "metadata": {},
   "outputs": [],
   "source": [
    "from tensorflow import keras\n",
    "from tensorflow.keras import Sequential\n",
    "from tensorflow.keras.layers import Dense ,Flatten\n"
   ]
  },
  {
   "cell_type": "code",
   "execution_count": 94,
   "metadata": {},
   "outputs": [
    {
     "name": "stdout",
     "output_type": "stream",
     "text": [
      "Downloading data from https://storage.googleapis.com/tensorflow/tf-keras-datasets/mnist.npz\n",
      "11490434/11490434 [==============================] - 10s 1us/step\n"
     ]
    }
   ],
   "source": [
    "(X_train ,Y_train),(X_test,Y_test ) =keras.datasets.mnist.load_data()"
   ]
  },
  {
   "cell_type": "code",
   "execution_count": 96,
   "metadata": {},
   "outputs": [
    {
     "data": {
      "text/plain": [
       "(60000, 28, 28)"
      ]
     },
     "execution_count": 96,
     "metadata": {},
     "output_type": "execute_result"
    }
   ],
   "source": [
    "X_train.shape\n"
   ]
  },
  {
   "cell_type": "code",
   "execution_count": 109,
   "metadata": {},
   "outputs": [
    {
     "data": {
      "text/plain": [
       "<matplotlib.image.AxesImage at 0x219f21a1910>"
      ]
     },
     "execution_count": 109,
     "metadata": {},
     "output_type": "execute_result"
    },
    {
     "data": {
      "image/png": "[encoded data removed]",
      "text/plain": [
       "<Figure size 640x480 with 1 Axes>"
      ]
     },
     "metadata": {},
     "output_type": "display_data"
    }
   ],
   "source": [
    "plt.imshow(X_train[133])"
   ]
  },
  {
   "cell_type": "code",
   "execution_count": 110,
   "metadata": {},
   "outputs": [],
   "source": [
    "X_train =X_train/255\n",
    "X_test =X_test/255"
   ]
  },
  {
   "cell_type": "code",
   "execution_count": 117,
   "metadata": {},
   "outputs": [],
   "source": [
    "model =Sequential()\n",
    "model.add(Flatten(input_shape=(28,28)))\n",
    "model.add(Dense(128,activation ='relu'))\n",
    "\n",
    "model.add(Dense(10,activation ='softmax'))\n",
    "\n",
    "model.compile(loss='sparse_categorical_crossentropy',optimizer='Adam',metrics=['accuracy'])\n"
   ]
  },
  {
   "cell_type": "code",
   "execution_count": 118,
   "metadata": {},
   "outputs": [
    {
     "name": "stdout",
     "output_type": "stream",
     "text": [
      "Model: \"sequential_11\"\n",
      "_________________________________________________________________\n",
      " Layer (type)                Output Shape              Param #   \n",
      "=================================================================\n",
      " flatten_4 (Flatten)         (None, 784)               0         \n",
      "                                                                 \n",
      " dense_17 (Dense)            (None, 128)               100480    \n",
      "                                                                 \n",
      " dense_18 (Dense)            (None, 10)                1290      \n",
      "                                                                 \n",
      "=================================================================\n",
      "Total params: 101770 (397.54 KB)\n",
      "Trainable params: 101770 (397.54 KB)\n",
      "Non-trainable params: 0 (0.00 Byte)\n",
      "_________________________________________________________________\n"
     ]
    }
   ],
   "source": [
    "model.summary()"
   ]
  },
  {
   "cell_type": "code",
   "execution_count": 120,
   "metadata": {},
   "outputs": [
    {
     "name": "stdout",
     "output_type": "stream",
     "text": [
      "Epoch 1/10\n",
      "1500/1500 [==============================] - 6s 4ms/step - loss: 0.0592 - accuracy: 0.9826 - val_loss: 0.0847 - val_accuracy: 0.9741\n",
      "Epoch 2/10\n",
      "1500/1500 [==============================] - 8s 5ms/step - loss: 0.0440 - accuracy: 0.9868 - val_loss: 0.0898 - val_accuracy: 0.9722\n",
      "Epoch 3/10\n",
      "1500/1500 [==============================] - 7s 4ms/step - loss: 0.0353 - accuracy: 0.9895 - val_loss: 0.0994 - val_accuracy: 0.9724\n",
      "Epoch 4/10\n",
      "1500/1500 [==============================] - 6s 4ms/step - loss: 0.0281 - accuracy: 0.9913 - val_loss: 0.0944 - val_accuracy: 0.9744\n",
      "Epoch 5/10\n",
      "1500/1500 [==============================] - 6s 4ms/step - loss: 0.0220 - accuracy: 0.9934 - val_loss: 0.0984 - val_accuracy: 0.9731\n",
      "Epoch 6/10\n",
      "1500/1500 [==============================] - 6s 4ms/step - loss: 0.0183 - accuracy: 0.9946 - val_loss: 0.0927 - val_accuracy: 0.9751\n",
      "Epoch 7/10\n",
      "1500/1500 [==============================] - 7s 5ms/step - loss: 0.0145 - accuracy: 0.9959 - val_loss: 0.0986 - val_accuracy: 0.9754\n",
      "Epoch 8/10\n",
      "1500/1500 [==============================] - 6s 4ms/step - loss: 0.0129 - accuracy: 0.9960 - val_loss: 0.1004 - val_accuracy: 0.9754\n",
      "Epoch 9/10\n",
      "1500/1500 [==============================] - 6s 4ms/step - loss: 0.0107 - accuracy: 0.9967 - val_loss: 0.0984 - val_accuracy: 0.9759\n",
      "Epoch 10/10\n",
      "1500/1500 [==============================] - 7s 4ms/step - loss: 0.0098 - accuracy: 0.9970 - val_loss: 0.1084 - val_accuracy: 0.9752\n"
     ]
    }
   ],
   "source": [
    "Model_performance =model.fit(X_train,Y_train,validation_split=0.2,epochs=10)"
   ]
  },
  {
   "cell_type": "code",
   "execution_count": 121,
   "metadata": {},
   "outputs": [
    {
     "name": "stdout",
     "output_type": "stream",
     "text": [
      "313/313 [==============================] - 1s 2ms/step\n"
     ]
    },
    {
     "data": {
      "text/plain": [
       "0.9766"
      ]
     },
     "execution_count": 121,
     "metadata": {},
     "output_type": "execute_result"
    }
   ],
   "source": [
    "y_prob =model.predict(X_test)\n",
    "y_pred= y_prob.argmax(axis=1) # to chech the maxium probality of a number to be on the axis \n",
    "accuracy_score(Y_test,y_pred)"
   ]
  },
  {
   "cell_type": "code",
   "execution_count": 126,
   "metadata": {},
   "outputs": [
    {
     "data": {
      "text/plain": [
       "[<matplotlib.lines.Line2D at 0x219f1a1df50>]"
      ]
     },
     "execution_count": 126,
     "metadata": {},
     "output_type": "execute_result"
    },
    {
     "data": {
      "image/png": "[encoded data removed]",
      "text/plain": [
       "<Figure size 640x480 with 1 Axes>"
      ]
     },
     "metadata": {},
     "output_type": "display_data"
    }
   ],
   "source": [
    "\n",
    "\n",
    "plt.plot(Model_performance.history['loss'] ,label='Loss')\n",
    "plt.plot(Model_performance.history['val_loss'],label='val_loss')\n",
    "plt.plot(Model_performance.history['val_accuracy'],label='val_accuracy')\n",
    "plt.plot(Model_performance.history['accuracy'],label='accuracy')"
   ]
  },
  {
   "cell_type": "markdown",
   "metadata": {},
   "source": [
    "# Using Keras Library Working on Regression Problem"
   ]
  },
  {
   "cell_type": "code",
   "execution_count": null,
   "metadata": {},
   "outputs": [],
   "source": []
  }
 ],
 "metadata": {
  "kernelspec": {
   "display_name": "Python 3",
   "language": "python",
   "name": "python3"
  },
  "language_info": {
   "codemirror_mode": {
    "name": "ipython",
    "version": 3
   },
   "file_extension": ".py",
   "mimetype": "text/x-python",
   "name": "python",
   "nbconvert_exporter": "python",
   "pygments_lexer": "ipython3",
   "version": "3.11.5"
  }
 },
 "nbformat": 4,
 "nbformat_minor": 2
}
